{
 "cells": [
  {
   "cell_type": "markdown",
   "metadata": {},
   "source": [
    "### Data Analysis"
   ]
  },
  {
   "cell_type": "markdown",
   "metadata": {},
   "source": [
    "We filter the users that have the tweets file"
   ]
  },
  {
   "cell_type": "code",
   "execution_count": 111,
   "metadata": {},
   "outputs": [],
   "source": [
    "import pandas as pd\n",
    "import matplotlib.pyplot as plt\n",
    "import os\n",
    "import seaborn as sns\n",
    "sns.set()\n",
    "os.chdir('/home/emi/unipd/Sartori_CBSD/project/cbsdproject')"
   ]
  },
  {
   "cell_type": "markdown",
   "metadata": {},
   "source": [
    "#### All the data"
   ]
  },
  {
   "cell_type": "code",
   "execution_count": 10,
   "metadata": {},
   "outputs": [
    {
     "data": {
      "text/plain": [
       "(7889, 18)"
      ]
     },
     "execution_count": 10,
     "metadata": {},
     "output_type": "execute_result"
    }
   ],
   "source": [
    "accounts = pd.read_excel('LabelledAccounts.xlsx', skiprows=1)\n",
    "accounts.shape"
   ]
  },
  {
   "cell_type": "markdown",
   "metadata": {},
   "source": [
    "#### Filter users that we have the tweets"
   ]
  },
  {
   "cell_type": "code",
   "execution_count": 100,
   "metadata": {},
   "outputs": [
    {
     "data": {
      "text/plain": [
       "(6571, 22)"
      ]
     },
     "execution_count": 100,
     "metadata": {},
     "output_type": "execute_result"
    }
   ],
   "source": [
    "accounts_with_tweets= pd.read_csv('data/valid_accounts_party_labeled.csv')\n",
    "accounts_with_tweets.shape"
   ]
  },
  {
   "cell_type": "code",
   "execution_count": 101,
   "metadata": {},
   "outputs": [
    {
     "data": {
      "text/plain": [
       "6571"
      ]
     },
     "execution_count": 101,
     "metadata": {},
     "output_type": "execute_result"
    }
   ],
   "source": [
    "accounts_with_tweets['Twitter ID'].nunique()"
   ]
  },
  {
   "cell_type": "code",
   "execution_count": 102,
   "metadata": {},
   "outputs": [
    {
     "data": {
      "text/plain": [
       "(3763, 22)"
      ]
     },
     "execution_count": 102,
     "metadata": {},
     "output_type": "execute_result"
    }
   ],
   "source": [
    "accounts_with_tweets_not_zero=accounts_with_tweets[accounts_with_tweets['Max_Value']!=0]\n",
    "accounts_with_tweets_not_zero.shape"
   ]
  },
  {
   "cell_type": "code",
   "execution_count": 103,
   "metadata": {},
   "outputs": [
    {
     "data": {
      "text/plain": [
       "3763"
      ]
     },
     "execution_count": 103,
     "metadata": {},
     "output_type": "execute_result"
    }
   ],
   "source": [
    "accounts_with_tweets_not_zero['Twitter ID'].nunique()"
   ]
  },
  {
   "cell_type": "markdown",
   "metadata": {},
   "source": [
    "We have 3944 accounts with tweets and party 0 for do the analyze"
   ]
  },
  {
   "cell_type": "markdown",
   "metadata": {},
   "source": [
    "#### Agreement 100%, all the students vote the same party"
   ]
  },
  {
   "cell_type": "code",
   "execution_count": 107,
   "metadata": {},
   "outputs": [
    {
     "data": {
      "text/plain": [
       "(2907, 22)"
      ]
     },
     "execution_count": 107,
     "metadata": {},
     "output_type": "execute_result"
    }
   ],
   "source": [
    "accounts_100agreement = accounts_with_tweets_not_zero[accounts_with_tweets_not_zero['Threshold'] == 1.0]\n",
    "accounts_100agreement.shape"
   ]
  },
  {
   "cell_type": "markdown",
   "metadata": {},
   "source": [
    "3055 is the data than can we use for analize the topics and their relation with the parties"
   ]
  },
  {
   "cell_type": "code",
   "execution_count": 108,
   "metadata": {},
   "outputs": [
    {
     "data": {
      "text/plain": [
       "2.0    1002\n",
       "1.0     868\n",
       "4.0     660\n",
       "3.0     312\n",
       "5.0      65\n",
       "Name: Max_Value, dtype: int64"
      ]
     },
     "execution_count": 108,
     "metadata": {},
     "output_type": "execute_result"
    }
   ],
   "source": [
    "accounts_100agreement['Max_Value'].value_counts()"
   ]
  },
  {
   "cell_type": "code",
   "execution_count": 112,
   "metadata": {},
   "outputs": [
    {
     "data": {
      "text/plain": [
       "<matplotlib.axes._subplots.AxesSubplot at 0x7fe5261b35f8>"
      ]
     },
     "execution_count": 112,
     "metadata": {},
     "output_type": "execute_result"
    },
    {
     "data": {
      "image/png": "[encoded data removed]",
      "text/plain": [
       "<Figure size 432x288 with 1 Axes>"
      ]
     },
     "metadata": {},
     "output_type": "display_data"
    }
   ],
   "source": [
    "accounts_100agreement['Max_Value'].hist()"
   ]
  },
  {
   "cell_type": "markdown",
   "metadata": {},
   "source": [
    "We have 80 accounts for party 5"
   ]
  },
  {
   "cell_type": "code",
   "execution_count": 113,
   "metadata": {},
   "outputs": [
    {
     "data": {
      "text/plain": [
       "Max_Value\n",
       "1.0    2265527\n",
       "2.0    2410452\n",
       "3.0     528067\n",
       "4.0    2779880\n",
       "5.0     157636\n",
       "Name: Tweets, dtype: int64"
      ]
     },
     "execution_count": 113,
     "metadata": {},
     "output_type": "execute_result"
    }
   ],
   "source": [
    "accounts_100agreement.groupby('Max_Value')['Tweets'].sum()"
   ]
  },
  {
   "cell_type": "code",
   "execution_count": 114,
   "metadata": {},
   "outputs": [
    {
     "data": {
      "text/plain": [
       "Max_Value  Sex (M/F)\n",
       "1.0        F             591769\n",
       "           M            1490251\n",
       "           U             183507\n",
       "2.0        F             851703\n",
       "           M            1434716\n",
       "           U             124033\n",
       "3.0        F             151237\n",
       "           M             348286\n",
       "           U              28544\n",
       "4.0        F             840121\n",
       "           M            1372965\n",
       "           U             566794\n",
       "5.0        F              26965\n",
       "           M             129593\n",
       "           U               1078\n",
       "Name: Tweets, dtype: int64"
      ]
     },
     "execution_count": 114,
     "metadata": {},
     "output_type": "execute_result"
    }
   ],
   "source": [
    "accounts_100agreement.groupby(['Max_Value','Sex (M/F)'])['Tweets'].sum()"
   ]
  },
  {
   "cell_type": "code",
   "execution_count": 115,
   "metadata": {},
   "outputs": [
    {
     "data": {
      "text/plain": [
       "Sex (M/F)\n",
       "F    2461795\n",
       "M    4775811\n",
       "U     903956\n",
       "Name: Tweets, dtype: int64"
      ]
     },
     "execution_count": 115,
     "metadata": {},
     "output_type": "execute_result"
    }
   ],
   "source": [
    "accounts_100agreement.groupby(['Sex (M/F)'])['Tweets'].sum()"
   ]
  },
  {
   "cell_type": "markdown",
   "metadata": {},
   "source": [
    "#### Agreement 75%, all the students vote the same party"
   ]
  },
  {
   "cell_type": "code",
   "execution_count": 117,
   "metadata": {},
   "outputs": [
    {
     "data": {
      "text/plain": [
       "(6106, 22)"
      ]
     },
     "execution_count": 117,
     "metadata": {},
     "output_type": "execute_result"
    }
   ],
   "source": [
    "accounts_75agreement = accounts_with_tweets[accounts_with_tweets['Threshold'] >= 0.75]\n",
    "accounts_75agreement.shape"
   ]
  },
  {
   "cell_type": "code",
   "execution_count": 118,
   "metadata": {},
   "outputs": [
    {
     "data": {
      "text/plain": [
       "0.0    2746\n",
       "2.0    1069\n",
       "1.0    1025\n",
       "4.0     776\n",
       "3.0     408\n",
       "5.0      82\n",
       "Name: Max_Value, dtype: int64"
      ]
     },
     "execution_count": 118,
     "metadata": {},
     "output_type": "execute_result"
    }
   ],
   "source": [
    "accounts_75agreement['Max_Value'].value_counts()"
   ]
  },
  {
   "cell_type": "code",
   "execution_count": 119,
   "metadata": {},
   "outputs": [
    {
     "data": {
      "text/plain": [
       "Max_Value  Sex (M/F)\n",
       "0.0        F             694\n",
       "           M            1491\n",
       "           U             561\n",
       "1.0        F             259\n",
       "           M             691\n",
       "           U              75\n",
       "2.0        F             377\n",
       "           M             637\n",
       "           U              55\n",
       "3.0        F             105\n",
       "           M             284\n",
       "           U              19\n",
       "4.0        F             197\n",
       "           M             436\n",
       "           U             143\n",
       "5.0        F              18\n",
       "           M              59\n",
       "           U               5\n",
       "dtype: int64"
      ]
     },
     "execution_count": 119,
     "metadata": {},
     "output_type": "execute_result"
    }
   ],
   "source": [
    "accounts_75agreement.groupby(['Max_Value','Sex (M/F)']).size()"
   ]
  }
 ],
 "metadata": {
  "kernelspec": {
   "display_name": "Python 3",
   "language": "python",
   "name": "python3"
  },
  "language_info": {
   "codemirror_mode": {
    "name": "ipython",
    "version": 3
   },
   "file_extension": ".py",
   "mimetype": "text/x-python",
   "name": "python",
   "nbconvert_exporter": "python",
   "pygments_lexer": "ipython3",
   "version": "3.6.9"
  }
 },
 "nbformat": 4,
 "nbformat_minor": 2
}
